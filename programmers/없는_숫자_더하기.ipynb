{
 "cells": [
  {
   "cell_type": "raw",
   "id": "9542dbc7-6a3d-410e-9fe0-8d56ea38e328",
   "metadata": {},
   "source": [
    "출처: 프로그래머스 코딩 테스트 연습, https://programmers.co.kr/learn/challenges\n",
    "\n",
    "코딩테스트 연습 > 월간 코드 챌린지 시즌3 > 없는 숫자 더하기"
   ]
  },
  {
   "cell_type": "raw",
   "id": "2ca1b475-0723-4bc6-853f-883cf5effada",
   "metadata": {},
   "source": [
    "0부터 9까지의 숫자 중 일부가 들어있는 정수 배열 numbers가 매개변수로 주어집니다.\n",
    "numbers에서 찾을 수 없는 0부터 9까지의 숫자를 모두 찾아 더한 수를 return 하도록 solution 함수를 완성해주세요.\n",
    "\n",
    "제한사항\n",
    "1 ≤ numbers의 길이 ≤ 9\n",
    "0 ≤ numbers의 모든 원소 ≤ 9\n",
    "numbers의 모든 원소는 서로 다릅니다."
   ]
  },
  {
   "cell_type": "code",
   "execution_count": 14,
   "id": "1fd809b1-563f-40a4-8599-890e063505c5",
   "metadata": {},
   "outputs": [
    {
     "data": {
      "text/html": [
       "<div>\n",
       "<style scoped>\n",
       "    .dataframe tbody tr th:only-of-type {\n",
       "        vertical-align: middle;\n",
       "    }\n",
       "\n",
       "    .dataframe tbody tr th {\n",
       "        vertical-align: top;\n",
       "    }\n",
       "\n",
       "    .dataframe thead th {\n",
       "        text-align: right;\n",
       "    }\n",
       "</style>\n",
       "<table border=\"1\" class=\"dataframe\">\n",
       "  <thead>\n",
       "    <tr style=\"text-align: right;\">\n",
       "      <th></th>\n",
       "      <th>numbers</th>\n",
       "      <th>result</th>\n",
       "    </tr>\n",
       "  </thead>\n",
       "  <tbody>\n",
       "    <tr>\n",
       "      <th>0</th>\n",
       "      <td>[1, 2, 3, 4, 6, 7, 8, 0]</td>\n",
       "      <td>14</td>\n",
       "    </tr>\n",
       "    <tr>\n",
       "      <th>1</th>\n",
       "      <td>[5, 8, 4, 0, 6, 7, 9]</td>\n",
       "      <td>6</td>\n",
       "    </tr>\n",
       "  </tbody>\n",
       "</table>\n",
       "</div>"
      ],
      "text/plain": [
       "                    numbers  result\n",
       "0  [1, 2, 3, 4, 6, 7, 8, 0]      14\n",
       "1     [5, 8, 4, 0, 6, 7, 9]       6"
      ]
     },
     "execution_count": 14,
     "metadata": {},
     "output_type": "execute_result"
    }
   ],
   "source": [
    "import pandas as pd\n",
    "\n",
    "df_ex = pd.DataFrame({'numbers':[[1,2,3,4,6,7,8,0],[5,8,4,0,6,7,9]],'result':[14,6]})\n",
    "df_ex"
   ]
  },
  {
   "cell_type": "code",
   "execution_count": 8,
   "id": "ef63e5b0-ac86-4130-9353-a98dc9f7393c",
   "metadata": {},
   "outputs": [],
   "source": [
    "def solution(numbers):\n",
    "    real_numbers = list(range(0,10,1))\n",
    "    non_numbers = [x for x in real_numbers if x not in numbers]\n",
    "    answer = sum(non_numbers)\n",
    "    return answer"
   ]
  },
  {
   "cell_type": "code",
   "execution_count": 15,
   "id": "659a05dc-d160-461a-8fe9-e83c78d8cc34",
   "metadata": {},
   "outputs": [],
   "source": [
    "#다른 사람 풀이\n",
    "def solution(numbers):\n",
    "    answer = 45 - sum(numbers)\n",
    "    return answer"
   ]
  }
 ],
 "metadata": {
  "kernelspec": {
   "display_name": "Python 3 (ipykernel)",
   "language": "python",
   "name": "python3"
  },
  "language_info": {
   "codemirror_mode": {
    "name": "ipython",
    "version": 3
   },
   "file_extension": ".py",
   "mimetype": "text/x-python",
   "name": "python",
   "nbconvert_exporter": "python",
   "pygments_lexer": "ipython3",
   "version": "3.7.13"
  }
 },
 "nbformat": 4,
 "nbformat_minor": 5
}