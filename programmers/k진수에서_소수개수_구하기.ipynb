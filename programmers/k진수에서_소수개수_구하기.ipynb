{
 "cells": [
  {
   "cell_type": "raw",
   "source": [
    "삽질만 계속 함"
   ],
   "metadata": {
    "collapsed": false,
    "pycharm": {
     "name": "#%% raw\n"
    }
   }
  },
  {
   "cell_type": "code",
   "execution_count": null,
   "outputs": [],
   "source": [
    "import math\n",
    "\n",
    "def convert(n, k): # 진수 변환하는 함수\n",
    "    result = ''\n",
    "    while n:\n",
    "        div, mod = divmod(n, k)\n",
    "        n = div\n",
    "        result = str(mod) + result\n",
    "    return result\n",
    "\n",
    "def isPrime(n): # 소수 구하는 함수\n",
    "    if n == 1:\n",
    "        return False\n",
    "    for i in range(2, int(math.sqrt(n)) + 1):\n",
    "        if n % i == 0:\n",
    "            return False\n",
    "    return True\n",
    "\n",
    "def getNumberArray(n): # 변환된 수를 보고 문제 조건에 맞게 숫자들을 뽑는 함수\n",
    "    return map(int, filter(lambda x : x != '', n.split('0')))\n",
    "\n",
    "def solution(n, k):\n",
    "    answer = 0\n",
    "    convertedNumber = convert(n, k)\n",
    "    numberArray = getNumberArray(convertedNumber)\n",
    "    for num in numberArray:\n",
    "        if isPrime(num):\n",
    "            answer += 1\n",
    "    return answer"
   ],
   "metadata": {
    "collapsed": false,
    "pycharm": {
     "name": "#%%\n"
    }
   }
  },
  {
   "cell_type": "code",
   "execution_count": null,
   "outputs": [],
   "source": [
    "#n에서 k진수 찾기\n",
    "def convert_notation(n, k):\n",
    "    T = \"0123456789ABCDEF\"\n",
    "    q, r = divmod(n, base)\n",
    "\n",
    "    return convert_notation(q, base) + T[r] if q else T[r]"
   ],
   "metadata": {
    "collapsed": false,
    "pycharm": {
     "name": "#%%\n"
    }
   }
  },
  {
   "cell_type": "code",
   "execution_count": null,
   "outputs": [],
   "source": [
    "num = convert_notation(233, 3)\n",
    "num"
   ],
   "metadata": {
    "collapsed": false,
    "pycharm": {
     "name": "#%%\n"
    }
   }
  },
  {
   "cell_type": "code",
   "execution_count": null,
   "outputs": [],
   "source": [
    "#리스트 내 원소들로 만들 수 있는 모든 조합 찾\n",
    "from itertools import chain, combinations\n",
    "\n",
    "lists = list(chain.from_iterable(combinations(list(num), r) for r in range(1, len(num) + 1)))\n",
    "lists = [''.join(x) for x in lists]\n",
    "lists"
   ],
   "metadata": {
    "collapsed": false,
    "pycharm": {
     "name": "#%%\n"
    }
   }
  }
 ],
 "metadata": {
  "kernelspec": {
   "display_name": "Python 3",
   "language": "python",
   "name": "python3"
  },
  "language_info": {
   "codemirror_mode": {
    "name": "ipython",
    "version": 2
   },
   "file_extension": ".py",
   "mimetype": "text/x-python",
   "name": "python",
   "nbconvert_exporter": "python",
   "pygments_lexer": "ipython2",
   "version": "2.7.6"
  }
 },
 "nbformat": 4,
 "nbformat_minor": 0
}