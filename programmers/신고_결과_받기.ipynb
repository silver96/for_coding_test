{
 "cells": [
  {
   "cell_type": "code",
   "execution_count": 25,
   "id": "bf458b21-8fbb-478e-88fb-4fc85a5df5f5",
   "metadata": {},
   "outputs": [],
   "source": [
    "##시간초과\n",
    "def solution(id_list, report, k):\n",
    "    report = set(report)\n",
    "    keys = [x.split()[0] for x in report] #신고자\n",
    "    values = [x.split()[1] for x in report] #신고당한사람\n",
    "    \n",
    "    cnt_values = [values.count(ids) for ids in id_list] #id별 신고당한 횟수\n",
    "    stops = [id_list[i] for i, cnt in enumerate(cnt_values) if cnt >= k] #정지자\n",
    "\n",
    "    answer = []\n",
    "    for ids in id_list:\n",
    "        cnt = 0\n",
    "        #id의 report index값\n",
    "        indexes = [i for i,_id in enumerate(keys) if _id==ids] \n",
    "        for i_ in indexes:\n",
    "            if values[i_] in stops: #해당 id의 value가 stops에 포함될 경우\n",
    "                cnt += 1\n",
    "        answer.append(cnt)   \n",
    "        \n",
    "    return answer"
   ]
  },
  {
   "cell_type": "code",
   "execution_count": 8,
   "id": "6906458c-0b11-4336-909d-3ff4812ab74c",
   "metadata": {},
   "outputs": [],
   "source": [
    "from collections import defaultdict\n",
    "\n",
    "def solution(id_list, report, k):\n",
    "    report = set(report)\n",
    "    dic_from_to = defaultdict(set)\n",
    "    for re in report:\n",
    "        from_, to_ = re.split()\n",
    "        dic_from_to[from_] = to_\n",
    "    return dic_from_to"
   ]
  },
  {
   "cell_type": "code",
   "execution_count": 14,
   "id": "1c182edd-5327-46d4-aeab-3330ef0bb7e8",
   "metadata": {},
   "outputs": [
    {
     "data": {
      "text/plain": [
       "defaultdict(set, {'ㄷ': 'ㄱ', 'ㄴ': 'ㄷ', 'ㄱ': 'ㄴ'})"
      ]
     },
     "execution_count": 14,
     "metadata": {},
     "output_type": "execute_result"
    }
   ],
   "source": [
    "solution(['ㄱ', 'ㄴ', 'ㄷ'],['ㄱ ㄴ', 'ㄴ ㄷ', 'ㄷ ㄱ', 'ㄱ ㄷ'],2)"
   ]
  },
  {
   "cell_type": "code",
   "execution_count": 1,
   "id": "30abb69c-9780-4b6e-b8e8-5f1a804315b6",
   "metadata": {},
   "outputs": [],
   "source": [
    "def solution(id_list, report, k):\n",
    "    report = set(report)\n",
    "    keys = [x.split()[0] for x in report] #신고자\n",
    "    values = [x.split()[1] for x in report] #신고당한사람\n",
    "    cnt_values = [values.count(ids) for ids in id_list] #id별 신고당한 횟수\n",
    "    \n",
    "    dic = { name:value for name, value in zip(id_list, cnt_values)}\n",
    "    stops = [i for i, cnt in dic.items() if cnt >= k] #정지자\n",
    "\n",
    "    answer = []\n",
    "    for ids in id_list:\n",
    "        cnt = 0\n",
    "        #id의 report index값\n",
    "        indexes = [i for i,_id in enumerate(keys) if _id==ids] \n",
    "        for i_ in indexes:\n",
    "            if values[i_] in stops: #해당 id의 value가 stops에 포함될 경우\n",
    "                cnt += 1\n",
    "        answer.append(cnt)   \n",
    "        \n",
    "    return answer"
   ]
  },
  {
   "cell_type": "code",
   "execution_count": null,
   "id": "113dc165-2607-42ec-bcdf-79b5494de461",
   "metadata": {},
   "outputs": [],
   "source": []
  },
  {
   "cell_type": "code",
   "execution_count": 2,
   "id": "03b84ae6-5469-45be-8f55-a018136216e1",
   "metadata": {},
   "outputs": [],
   "source": [
    "#다른사람 풀이: 출처(https://kimjingo.tistory.com/148)\n",
    "\n",
    "from collections import defaultdict\n",
    " \n",
    "def solution(id_list, report, k):\n",
    "    answer = []\n",
    " \n",
    "    report_to_from = defaultdict(set) # key(id)를 신고한 목록\n",
    "    report_from_to = defaultdict(set) # key(id)가 신고한 목록\n",
    "    for r in report:\n",
    "        report_from, report_to = r.split(' ') # 공백을 기준으로 from/to 구분\n",
    "        report_to_from[report_to].add(report_from) # report_to를 신고한 목록에 from 추가\n",
    "        report_from_to[report_from].add(report_to) # report_from이 신고한 목록에 to 추가\n",
    " \n",
    "    for _id in id_list:\n",
    "        cnt = 0\n",
    "        for r_to in report_from_to[_id]: # _id가 신고한 목록에서 아이디를 가져옴(r_to)\n",
    "            if len(report_to_from[r_to]) >= k:  # r_to 신고한 목록의 개수가 k 이상인 경우 cnt++\n",
    "               cnt += 1\n",
    "        answer.append(cnt)\n",
    "    return answer"
   ]
  },
  {
   "cell_type": "code",
   "execution_count": 23,
   "id": "979d9160-4f18-446c-b9c2-71b42e64d064",
   "metadata": {},
   "outputs": [],
   "source": [
    "def solution(id_list, report, k):\n",
    "    answer = [0] * len(id_list)   \n",
    "    print('anw', answer)\n",
    "    reports = {x : 0 for x in id_list}\n",
    "    print('rep', answer)\n",
    "    for r in set(report):\n",
    "        reports[r.split()[1]] += 1\n",
    "    print('rep', reports)\n",
    "    for r in set(report):\n",
    "        if reports[r.split()[1]] >= k:\n",
    "            answer[id_list.index(r.split()[0])] += 1\n",
    "    print('anw', answer)\n",
    "    return answer"
   ]
  },
  {
   "cell_type": "code",
   "execution_count": 24,
   "id": "42d01498-b59e-4b16-b4bb-34985a4c81ff",
   "metadata": {},
   "outputs": [
    {
     "name": "stdout",
     "output_type": "stream",
     "text": [
      "anw [0, 0, 0]\n",
      "rep [0, 0, 0]\n",
      "rep {'ㄱ': 1, 'ㄴ': 1, 'ㄷ': 2}\n",
      "anw [1, 1, 0]\n"
     ]
    },
    {
     "data": {
      "text/plain": [
       "[1, 1, 0]"
      ]
     },
     "execution_count": 24,
     "metadata": {},
     "output_type": "execute_result"
    }
   ],
   "source": [
    "solution(['ㄱ', 'ㄴ', 'ㄷ'],['ㄱ ㄴ', 'ㄴ ㄷ', 'ㄷ ㄱ', 'ㄱ ㄷ'],2)"
   ]
  }
 ],
 "metadata": {
  "kernelspec": {
   "display_name": "Python 3 (ipykernel)",
   "language": "python",
   "name": "python3"
  },
  "language_info": {
   "codemirror_mode": {
    "name": "ipython",
    "version": 3
   },
   "file_extension": ".py",
   "mimetype": "text/x-python",
   "name": "python",
   "nbconvert_exporter": "python",
   "pygments_lexer": "ipython3",
   "version": "3.7.13"
  }
 },
 "nbformat": 4,
 "nbformat_minor": 5
}
