{
 "cells": [
  {
   "cell_type": "code",
   "execution_count": 25,
   "id": "bf458b21-8fbb-478e-88fb-4fc85a5df5f5",
   "metadata": {},
   "outputs": [],
   "source": [
    "##시간초과\n",
    "def solution(id_list, report, k):\n",
    "    report = set(report)\n",
    "    keys = [x.split()[0] for x in report] #신고자\n",
    "    values = [x.split()[1] for x in report] #신고당한사람\n",
    "    \n",
    "    cnt_values = [values.count(ids) for ids in id_list] #id별 신고당한 횟수\n",
    "    stops = [id_list[i] for i, cnt in enumerate(cnt_values) if cnt >= k] #정지자\n",
    "\n",
    "    answer = []\n",
    "    for ids in id_list:\n",
    "        cnt = 0\n",
    "        #id의 report index값\n",
    "        indexes = [i for i,_id in enumerate(keys) if _id==ids] \n",
    "        for i_ in indexes:\n",
    "            if values[i_] in stops: #해당 id의 value가 stops에 포함될 경우\n",
    "                cnt += 1\n",
    "        answer.append(cnt)   \n",
    "        \n",
    "    return answer"
   ]
  }
 ],
 "metadata": {
  "kernelspec": {
   "display_name": "Python 3 (ipykernel)",
   "language": "python",
   "name": "python3"
  },
  "language_info": {
   "codemirror_mode": {
    "name": "ipython",
    "version": 3
   },
   "file_extension": ".py",
   "mimetype": "text/x-python",
   "name": "python",
   "nbconvert_exporter": "python",
   "pygments_lexer": "ipython3",
   "version": "3.7.11"
  }
 },
 "nbformat": 4,
 "nbformat_minor": 5
}
