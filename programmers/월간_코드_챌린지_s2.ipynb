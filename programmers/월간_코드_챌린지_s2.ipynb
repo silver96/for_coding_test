{
 "cells": [
  {
   "cell_type": "code",
   "execution_count": 1,
   "id": "d5707b55-552c-4d02-9d44-f1a4f2236662",
   "metadata": {},
   "outputs": [],
   "source": [
    "#음양 더하기\n",
    "def solution(absolutes, signs):\n",
    "    signs_ = [1 if y == True else -1 for y in signs]\n",
    "    answer = [x * y for x,y in zip(absolutes, signs_)]\n",
    "    answer = sum(answer)\n",
    "    return answer"
   ]
  },
  {
   "cell_type": "code",
   "execution_count": 2,
   "id": "61405ab2-cbec-473a-a210-bf880a66f621",
   "metadata": {},
   "outputs": [],
   "source": [
    "#오픈채팅방\n",
    "def solution(record):\n",
    "    id_name = dict()\n",
    "    id_ac = dict()\n",
    "    for rec in record:\n",
    "        if \"Leave\" not in rec:\n",
    "            action, id, name = rec.split()\n",
    "            id_name[id] = name\n",
    "    answer = []\n",
    "    for rec in record:\n",
    "        action, id = rec.split()[:2]\n",
    "        if action == \"Enter\":\n",
    "            answer.append(f\"{id_name[id]}님이 들어왔습니다.\")\n",
    "        elif action == \"Change\":\n",
    "            pass\n",
    "        else:\n",
    "            answer.append(f\"{id_name[id]}님이 나갔습니다.\")\n",
    "        \n",
    "    return answer"
   ]
  },
  {
   "cell_type": "code",
   "execution_count": 18,
   "id": "bd35a2cc-8b2c-46c9-9014-900a791e9468",
   "metadata": {},
   "outputs": [
    {
     "name": "stdout",
     "output_type": "stream",
     "text": [
      "[4]\n",
      "[2]\n",
      "[4, 2]\n",
      "[4]\n",
      "[]\n"
     ]
    },
    {
     "data": {
      "text/plain": [
       "5"
      ]
     },
     "execution_count": 18,
     "metadata": {},
     "output_type": "execute_result"
    }
   ],
   "source": [
    "def solution(n, lost, reserve):\n",
    "    finds = []\n",
    "    for lo in lost:\n",
    "        if lo in reserves:\n",
    "            reserve.remove(lo)\n",
    "            finds.append(lo)\n",
    "            \n",
    "            print(reserves)\n",
    "    answer = n + len(finds) - len(lost)\n",
    "    return answer\n",
    "\n",
    "solution(5, [2, 4], [3])"
   ]
  }
 ],
 "metadata": {
  "kernelspec": {
   "display_name": "Python 3 (ipykernel)",
   "language": "python",
   "name": "python3"
  },
  "language_info": {
   "codemirror_mode": {
    "name": "ipython",
    "version": 3
   },
   "file_extension": ".py",
   "mimetype": "text/x-python",
   "name": "python",
   "nbconvert_exporter": "python",
   "pygments_lexer": "ipython3",
   "version": "3.8.13"
  }
 },
 "nbformat": 4,
 "nbformat_minor": 5
}
